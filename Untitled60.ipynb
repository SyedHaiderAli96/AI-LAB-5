{
 "cells": [
  {
   "cell_type": "code",
   "execution_count": 7,
   "id": "183f5fe7-43e0-4037-8b66-887f97b56936",
   "metadata": {},
   "outputs": [
    {
     "name": "stdout",
     "output_type": "stream",
     "text": [
      "Prediction for new entry: 0\n",
      "Confusion Matrix:\n",
      " [[2 0]\n",
      " [0 3]]\n",
      "Accuracy: 1.0\n"
     ]
    },
    {
     "name": "stderr",
     "output_type": "stream",
     "text": [
      "C:\\ProgramData\\anaconda3\\Lib\\site-packages\\sklearn\\base.py:439: UserWarning: X does not have valid feature names, but DecisionTreeClassifier was fitted with feature names\n",
      "  warnings.warn(\n"
     ]
    }
   ],
   "source": [
    "import pandas as pd\n",
    "import numpy as np\n",
    "from sklearn.tree import DecisionTreeClassifier\n",
    "from sklearn.metrics import confusion_matrix, accuracy_score\n",
    "\n",
    "# Sample data based on Table 1\n",
    "data = {\n",
    "    'Feature1': [5, 6, 7, 8, 9],\n",
    "    'Feature2': [100, 150, 200, 250, 300],\n",
    "    'Feature3': [10, 15, 20, 25, 30],\n",
    "    'Label': [0, 1, 1, 0, 1]  # Example labels\n",
    "}\n",
    "\n",
    "# Create DataFrame\n",
    "df = pd.DataFrame(data)\n",
    "\n",
    "# Separate features and labels\n",
    "X = df[['Feature1', 'Feature2', 'Feature3']]\n",
    "y = df['Label']\n",
    "\n",
    "# Initialize and train Decision Tree classifier\n",
    "classifier = DecisionTreeClassifier()\n",
    "classifier.fit(X, y)\n",
    "\n",
    "# New entry\n",
    "new_entry = [[6.5, 180, 12]]\n",
    "prediction = classifier.predict(new_entry)\n",
    "print(\"Prediction for new entry:\", prediction[0])\n",
    "\n",
    "# Test predictions and evaluation (for demonstration using the same data)\n",
    "y_pred = classifier.predict(X)\n",
    "conf_matrix = confusion_matrix(y, y_pred)\n",
    "accuracy = accuracy_score(y, y_pred)\n",
    "\n",
    "print(\"Confusion Matrix:\\n\", conf_matrix)\n",
    "print(\"Accuracy:\", accuracy)"
   ]
  },
  {
   "cell_type": "code",
   "execution_count": null,
   "id": "dc8efb35-af68-4709-9b63-55df2b437b2b",
   "metadata": {},
   "outputs": [],
   "source": []
  }
 ],
 "metadata": {
  "kernelspec": {
   "display_name": "Python 3 (ipykernel)",
   "language": "python",
   "name": "python3"
  },
  "language_info": {
   "codemirror_mode": {
    "name": "ipython",
    "version": 3
   },
   "file_extension": ".py",
   "mimetype": "text/x-python",
   "name": "python",
   "nbconvert_exporter": "python",
   "pygments_lexer": "ipython3",
   "version": "3.11.7"
  }
 },
 "nbformat": 4,
 "nbformat_minor": 5
}
