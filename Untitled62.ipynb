{
 "cells": [
  {
   "cell_type": "code",
   "execution_count": 3,
   "id": "13ea8716-ba65-419f-8fd5-75e300a52b94",
   "metadata": {},
   "outputs": [
    {
     "name": "stdout",
     "output_type": "stream",
     "text": [
      "Prediction for new entry: 1\n",
      "Confusion Matrix:\n",
      " [[2 0]\n",
      " [0 3]]\n",
      "Accuracy: 1.0\n"
     ]
    }
   ],
   "source": [
    "import numpy as np\n",
    "from sklearn.tree import DecisionTreeClassifier\n",
    "from sklearn.metrics import confusion_matrix, accuracy_score\n",
    "\n",
    "# Sample data as numpy arrays\n",
    "X = np.array([[5, 100, 10],\n",
    "              [6, 150, 15],\n",
    "              [7, 200, 20],\n",
    "              [8, 250, 25],\n",
    "              [9, 300, 30]])\n",
    "y = np.array([0, 1, 1, 0, 1])  # Example labels\n",
    "\n",
    "# Initialize and train classifier\n",
    "classifier = DecisionTreeClassifier()\n",
    "classifier.fit(X, y)\n",
    "\n",
    "# New entry for prediction\n",
    "new_entry = np.array([[6.5, 180, 12]])\n",
    "prediction = classifier.predict(new_entry)\n",
    "print(\"Prediction for new entry:\", prediction[0])\n",
    "\n",
    "# Evaluate with the same data\n",
    "y_pred = classifier.predict(X)\n",
    "conf_matrix = confusion_matrix(y, y_pred)\n",
    "accuracy = accuracy_score(y, y_pred)\n",
    "\n",
    "print(\"Confusion Matrix:\\n\", conf_matrix)\n",
    "print(\"Accuracy:\", accuracy)"
   ]
  },
  {
   "cell_type": "code",
   "execution_count": null,
   "id": "347d9ba5-d5e3-4195-831b-fa6b57068d8f",
   "metadata": {},
   "outputs": [],
   "source": []
  }
 ],
 "metadata": {
  "kernelspec": {
   "display_name": "Python 3 (ipykernel)",
   "language": "python",
   "name": "python3"
  },
  "language_info": {
   "codemirror_mode": {
    "name": "ipython",
    "version": 3
   },
   "file_extension": ".py",
   "mimetype": "text/x-python",
   "name": "python",
   "nbconvert_exporter": "python",
   "pygments_lexer": "ipython3",
   "version": "3.11.7"
  }
 },
 "nbformat": 4,
 "nbformat_minor": 5
}
