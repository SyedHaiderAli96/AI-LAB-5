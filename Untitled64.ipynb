{
 "cells": [
  {
   "cell_type": "code",
   "execution_count": 1,
   "id": "5389575b-40af-49bd-8284-a6fdcebd1f35",
   "metadata": {},
   "outputs": [
    {
     "name": "stdout",
     "output_type": "stream",
     "text": [
      "\n",
      "Prediction for new entry [7.5, 120, 20]: 1\n",
      "\n",
      "Confusion Matrix:\n",
      " [[3 0]\n",
      " [0 3]]\n",
      "Accuracy: 1.0\n"
     ]
    }
   ],
   "source": [
    "import numpy as np\n",
    "from sklearn.tree import DecisionTreeClassifier\n",
    "from sklearn.metrics import confusion_matrix, accuracy_score\n",
    "\n",
    "# Step 1: Define the dataset using numpy arrays\n",
    "X = np.array([[5, 90, 12],\n",
    "              [6, 110, 18],\n",
    "              [7, 150, 22],\n",
    "              [8, 130, 25],\n",
    "              [9, 170, 28],\n",
    "              [10, 160, 30]])\n",
    "y = np.array([0, 1, 0, 1, 1, 0])  # Labels\n",
    "\n",
    "# Step 2: Initialize and train Decision Tree classifier\n",
    "classifier = DecisionTreeClassifier()\n",
    "classifier.fit(X, y)\n",
    "\n",
    "# Step 3: Predict the label for a new entry\n",
    "new_entry = np.array([[7.5, 120, 20]])\n",
    "predicted_label = classifier.predict(new_entry)\n",
    "print(\"\\nPrediction for new entry [7.5, 120, 20]:\", predicted_label[0])\n",
    "\n",
    "# Step 4: Evaluate the model\n",
    "y_pred = classifier.predict(X)\n",
    "conf_matrix = confusion_matrix(y, y_pred)\n",
    "accuracy = accuracy_score(y, y_pred)\n",
    "\n",
    "# Display results\n",
    "print(\"\\nConfusion Matrix:\\n\", conf_matrix)\n",
    "print(\"Accuracy:\", accuracy)"
   ]
  },
  {
   "cell_type": "code",
   "execution_count": null,
   "id": "351262f8-29e5-407b-ba86-ab96d83cd2c8",
   "metadata": {},
   "outputs": [],
   "source": []
  }
 ],
 "metadata": {
  "kernelspec": {
   "display_name": "Python 3 (ipykernel)",
   "language": "python",
   "name": "python3"
  },
  "language_info": {
   "codemirror_mode": {
    "name": "ipython",
    "version": 3
   },
   "file_extension": ".py",
   "mimetype": "text/x-python",
   "name": "python",
   "nbconvert_exporter": "python",
   "pygments_lexer": "ipython3",
   "version": "3.11.7"
  }
 },
 "nbformat": 4,
 "nbformat_minor": 5
}
