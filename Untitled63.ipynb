{
 "cells": [
  {
   "cell_type": "code",
   "execution_count": 1,
   "id": "2637fd11-8b95-4321-ab21-d53ed9f282f1",
   "metadata": {},
   "outputs": [
    {
     "name": "stdout",
     "output_type": "stream",
     "text": [
      "Dataset:\n",
      "    Feature1  Feature2  Feature3  Label\n",
      "0         5        90        12      0\n",
      "1         6       110        18      1\n",
      "2         7       150        22      0\n",
      "3         8       130        25      1\n",
      "4         9       170        28      1\n",
      "5        10       160        30      0\n",
      "\n",
      "Prediction for the new entry [7.5, 120, 20]: 1\n",
      "\n",
      "Confusion Matrix:\n",
      " [[3 0]\n",
      " [0 3]]\n",
      "Accuracy: 1.0\n"
     ]
    },
    {
     "name": "stderr",
     "output_type": "stream",
     "text": [
      "C:\\ProgramData\\anaconda3\\Lib\\site-packages\\sklearn\\base.py:439: UserWarning: X does not have valid feature names, but DecisionTreeClassifier was fitted with feature names\n",
      "  warnings.warn(\n"
     ]
    }
   ],
   "source": [
    "import pandas as pd\n",
    "from sklearn.tree import DecisionTreeClassifier\n",
    "from sklearn.metrics import confusion_matrix, accuracy_score\n",
    "\n",
    "# Step 1: Create the dataset\n",
    "data = {\n",
    "    'Feature1': [5, 6, 7, 8, 9, 10],\n",
    "    'Feature2': [90, 110, 150, 130, 170, 160],\n",
    "    'Feature3': [12, 18, 22, 25, 28, 30],\n",
    "    'Label': [0, 1, 0, 1, 1, 0]\n",
    "}\n",
    "\n",
    "# Create DataFrame\n",
    "df = pd.DataFrame(data)\n",
    "print(\"Dataset:\\n\", df)\n",
    "\n",
    "# Step 2: Separate features and labels\n",
    "X = df[['Feature1', 'Feature2', 'Feature3']]\n",
    "y = df['Label']\n",
    "\n",
    "# Step 3: Initialize and train Decision Tree classifier\n",
    "classifier = DecisionTreeClassifier()\n",
    "classifier.fit(X, y)\n",
    "\n",
    "# Step 4: Predict the label for a new entry\n",
    "new_entry = [[7.5, 120, 20]]\n",
    "predicted_label = classifier.predict(new_entry)\n",
    "print(\"\\nPrediction for the new entry [7.5, 120, 20]:\", predicted_label[0])\n",
    "\n",
    "# Step 5: Evaluate the model on the original dataset\n",
    "y_pred = classifier.predict(X)\n",
    "conf_matrix = confusion_matrix(y, y_pred)\n",
    "accuracy = accuracy_score(y, y_pred)\n",
    "\n",
    "# Display results\n",
    "print(\"\\nConfusion Matrix:\\n\", conf_matrix)\n",
    "print(\"Accuracy:\", accuracy)"
   ]
  },
  {
   "cell_type": "code",
   "execution_count": null,
   "id": "c09874db-b3da-47bb-a18e-a0ba666d8fb3",
   "metadata": {},
   "outputs": [],
   "source": []
  }
 ],
 "metadata": {
  "kernelspec": {
   "display_name": "Python 3 (ipykernel)",
   "language": "python",
   "name": "python3"
  },
  "language_info": {
   "codemirror_mode": {
    "name": "ipython",
    "version": 3
   },
   "file_extension": ".py",
   "mimetype": "text/x-python",
   "name": "python",
   "nbconvert_exporter": "python",
   "pygments_lexer": "ipython3",
   "version": "3.11.7"
  }
 },
 "nbformat": 4,
 "nbformat_minor": 5
}
